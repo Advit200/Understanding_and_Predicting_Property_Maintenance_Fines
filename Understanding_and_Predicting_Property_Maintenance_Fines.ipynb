{
  "nbformat": 4,
  "nbformat_minor": 0,
  "metadata": {
    "colab": {
      "name": "Understanding and Predicting Property Maintenance Fines.ipynb",
      "provenance": [],
      "collapsed_sections": []
    },
    "kernelspec": {
      "name": "python3",
      "display_name": "Python 3"
    },
    "accelerator": "GPU",
    "widgets": {
      "application/vnd.jupyter.widget-state+json": {
        "99a078ed06df4eef8f22bb6522bd5d1c": {
          "model_module": "@jupyter-widgets/controls",
          "model_name": "HBoxModel",
          "state": {
            "_view_name": "HBoxView",
            "_dom_classes": [],
            "_model_name": "HBoxModel",
            "_view_module": "@jupyter-widgets/controls",
            "_model_module_version": "1.5.0",
            "_view_count": null,
            "_view_module_version": "1.5.0",
            "box_style": "",
            "layout": "IPY_MODEL_c12c169a6ffe48239559b38dba3d798d",
            "_model_module": "@jupyter-widgets/controls",
            "children": [
              "IPY_MODEL_681b4885d3324f07a0ea601142f5ff1c",
              "IPY_MODEL_50dc2ff0752049849462a3cfd7c8b819"
            ]
          }
        },
        "c12c169a6ffe48239559b38dba3d798d": {
          "model_module": "@jupyter-widgets/base",
          "model_name": "LayoutModel",
          "state": {
            "_view_name": "LayoutView",
            "grid_template_rows": null,
            "right": null,
            "justify_content": null,
            "_view_module": "@jupyter-widgets/base",
            "overflow": null,
            "_model_module_version": "1.2.0",
            "_view_count": null,
            "flex_flow": null,
            "width": null,
            "min_width": null,
            "border": null,
            "align_items": null,
            "bottom": null,
            "_model_module": "@jupyter-widgets/base",
            "top": null,
            "grid_column": null,
            "overflow_y": null,
            "overflow_x": null,
            "grid_auto_flow": null,
            "grid_area": null,
            "grid_template_columns": null,
            "flex": null,
            "_model_name": "LayoutModel",
            "justify_items": null,
            "grid_row": null,
            "max_height": null,
            "align_content": null,
            "visibility": null,
            "align_self": null,
            "height": null,
            "min_height": null,
            "padding": null,
            "grid_auto_rows": null,
            "grid_gap": null,
            "max_width": null,
            "order": null,
            "_view_module_version": "1.2.0",
            "grid_template_areas": null,
            "object_position": null,
            "object_fit": null,
            "grid_auto_columns": null,
            "margin": null,
            "display": null,
            "left": null
          }
        },
        "681b4885d3324f07a0ea601142f5ff1c": {
          "model_module": "@jupyter-widgets/controls",
          "model_name": "FloatProgressModel",
          "state": {
            "_view_name": "ProgressView",
            "style": "IPY_MODEL_eb762bb23dff416c95f7373a1b905e1e",
            "_dom_classes": [],
            "description": "Summarize dataset: 100%",
            "_model_name": "FloatProgressModel",
            "bar_style": "success",
            "max": 46,
            "_view_module": "@jupyter-widgets/controls",
            "_model_module_version": "1.5.0",
            "value": 46,
            "_view_count": null,
            "_view_module_version": "1.5.0",
            "orientation": "horizontal",
            "min": 0,
            "description_tooltip": null,
            "_model_module": "@jupyter-widgets/controls",
            "layout": "IPY_MODEL_687d78abc6a54aabbe2fa7d1ec6966fd"
          }
        },
        "50dc2ff0752049849462a3cfd7c8b819": {
          "model_module": "@jupyter-widgets/controls",
          "model_name": "HTMLModel",
          "state": {
            "_view_name": "HTMLView",
            "style": "IPY_MODEL_04dc0e3304eb4d0aa68336780b7030c1",
            "_dom_classes": [],
            "description": "",
            "_model_name": "HTMLModel",
            "placeholder": "​",
            "_view_module": "@jupyter-widgets/controls",
            "_model_module_version": "1.5.0",
            "value": " 46/46 [00:06&lt;00:00,  7.35it/s, Completed]",
            "_view_count": null,
            "_view_module_version": "1.5.0",
            "description_tooltip": null,
            "_model_module": "@jupyter-widgets/controls",
            "layout": "IPY_MODEL_0d60a1fc5a404b8c9490a433972a22a9"
          }
        },
        "eb762bb23dff416c95f7373a1b905e1e": {
          "model_module": "@jupyter-widgets/controls",
          "model_name": "ProgressStyleModel",
          "state": {
            "_view_name": "StyleView",
            "_model_name": "ProgressStyleModel",
            "description_width": "initial",
            "_view_module": "@jupyter-widgets/base",
            "_model_module_version": "1.5.0",
            "_view_count": null,
            "_view_module_version": "1.2.0",
            "bar_color": null,
            "_model_module": "@jupyter-widgets/controls"
          }
        },
        "687d78abc6a54aabbe2fa7d1ec6966fd": {
          "model_module": "@jupyter-widgets/base",
          "model_name": "LayoutModel",
          "state": {
            "_view_name": "LayoutView",
            "grid_template_rows": null,
            "right": null,
            "justify_content": null,
            "_view_module": "@jupyter-widgets/base",
            "overflow": null,
            "_model_module_version": "1.2.0",
            "_view_count": null,
            "flex_flow": null,
            "width": null,
            "min_width": null,
            "border": null,
            "align_items": null,
            "bottom": null,
            "_model_module": "@jupyter-widgets/base",
            "top": null,
            "grid_column": null,
            "overflow_y": null,
            "overflow_x": null,
            "grid_auto_flow": null,
            "grid_area": null,
            "grid_template_columns": null,
            "flex": null,
            "_model_name": "LayoutModel",
            "justify_items": null,
            "grid_row": null,
            "max_height": null,
            "align_content": null,
            "visibility": null,
            "align_self": null,
            "height": null,
            "min_height": null,
            "padding": null,
            "grid_auto_rows": null,
            "grid_gap": null,
            "max_width": null,
            "order": null,
            "_view_module_version": "1.2.0",
            "grid_template_areas": null,
            "object_position": null,
            "object_fit": null,
            "grid_auto_columns": null,
            "margin": null,
            "display": null,
            "left": null
          }
        },
        "04dc0e3304eb4d0aa68336780b7030c1": {
          "model_module": "@jupyter-widgets/controls",
          "model_name": "DescriptionStyleModel",
          "state": {
            "_view_name": "StyleView",
            "_model_name": "DescriptionStyleModel",
            "description_width": "",
            "_view_module": "@jupyter-widgets/base",
            "_model_module_version": "1.5.0",
            "_view_count": null,
            "_view_module_version": "1.2.0",
            "_model_module": "@jupyter-widgets/controls"
          }
        },
        "0d60a1fc5a404b8c9490a433972a22a9": {
          "model_module": "@jupyter-widgets/base",
          "model_name": "LayoutModel",
          "state": {
            "_view_name": "LayoutView",
            "grid_template_rows": null,
            "right": null,
            "justify_content": null,
            "_view_module": "@jupyter-widgets/base",
            "overflow": null,
            "_model_module_version": "1.2.0",
            "_view_count": null,
            "flex_flow": null,
            "width": null,
            "min_width": null,
            "border": null,
            "align_items": null,
            "bottom": null,
            "_model_module": "@jupyter-widgets/base",
            "top": null,
            "grid_column": null,
            "overflow_y": null,
            "overflow_x": null,
            "grid_auto_flow": null,
            "grid_area": null,
            "grid_template_columns": null,
            "flex": null,
            "_model_name": "LayoutModel",
            "justify_items": null,
            "grid_row": null,
            "max_height": null,
            "align_content": null,
            "visibility": null,
            "align_self": null,
            "height": null,
            "min_height": null,
            "padding": null,
            "grid_auto_rows": null,
            "grid_gap": null,
            "max_width": null,
            "order": null,
            "_view_module_version": "1.2.0",
            "grid_template_areas": null,
            "object_position": null,
            "object_fit": null,
            "grid_auto_columns": null,
            "margin": null,
            "display": null,
            "left": null
          }
        },
        "a90cae73e0bf4e7080fbb621cb245eac": {
          "model_module": "@jupyter-widgets/controls",
          "model_name": "HBoxModel",
          "state": {
            "_view_name": "HBoxView",
            "_dom_classes": [],
            "_model_name": "HBoxModel",
            "_view_module": "@jupyter-widgets/controls",
            "_model_module_version": "1.5.0",
            "_view_count": null,
            "_view_module_version": "1.5.0",
            "box_style": "",
            "layout": "IPY_MODEL_c381b30e99c8449fb5fa0e07ccd0eb21",
            "_model_module": "@jupyter-widgets/controls",
            "children": [
              "IPY_MODEL_ae1c494dcbda42918a9fa6464a2c42ca",
              "IPY_MODEL_b59f577312884476b1510de187c81e80"
            ]
          }
        },
        "c381b30e99c8449fb5fa0e07ccd0eb21": {
          "model_module": "@jupyter-widgets/base",
          "model_name": "LayoutModel",
          "state": {
            "_view_name": "LayoutView",
            "grid_template_rows": null,
            "right": null,
            "justify_content": null,
            "_view_module": "@jupyter-widgets/base",
            "overflow": null,
            "_model_module_version": "1.2.0",
            "_view_count": null,
            "flex_flow": null,
            "width": null,
            "min_width": null,
            "border": null,
            "align_items": null,
            "bottom": null,
            "_model_module": "@jupyter-widgets/base",
            "top": null,
            "grid_column": null,
            "overflow_y": null,
            "overflow_x": null,
            "grid_auto_flow": null,
            "grid_area": null,
            "grid_template_columns": null,
            "flex": null,
            "_model_name": "LayoutModel",
            "justify_items": null,
            "grid_row": null,
            "max_height": null,
            "align_content": null,
            "visibility": null,
            "align_self": null,
            "height": null,
            "min_height": null,
            "padding": null,
            "grid_auto_rows": null,
            "grid_gap": null,
            "max_width": null,
            "order": null,
            "_view_module_version": "1.2.0",
            "grid_template_areas": null,
            "object_position": null,
            "object_fit": null,
            "grid_auto_columns": null,
            "margin": null,
            "display": null,
            "left": null
          }
        },
        "ae1c494dcbda42918a9fa6464a2c42ca": {
          "model_module": "@jupyter-widgets/controls",
          "model_name": "FloatProgressModel",
          "state": {
            "_view_name": "ProgressView",
            "style": "IPY_MODEL_80150bd355fa4a599a904b7acc7beb7b",
            "_dom_classes": [],
            "description": "Generate report structure: 100%",
            "_model_name": "FloatProgressModel",
            "bar_style": "success",
            "max": 1,
            "_view_module": "@jupyter-widgets/controls",
            "_model_module_version": "1.5.0",
            "value": 1,
            "_view_count": null,
            "_view_module_version": "1.5.0",
            "orientation": "horizontal",
            "min": 0,
            "description_tooltip": null,
            "_model_module": "@jupyter-widgets/controls",
            "layout": "IPY_MODEL_7f29ecc484f84893a79cebfc3ca6d7cd"
          }
        },
        "b59f577312884476b1510de187c81e80": {
          "model_module": "@jupyter-widgets/controls",
          "model_name": "HTMLModel",
          "state": {
            "_view_name": "HTMLView",
            "style": "IPY_MODEL_2f6fc51c12624a4db36552a0ee818985",
            "_dom_classes": [],
            "description": "",
            "_model_name": "HTMLModel",
            "placeholder": "​",
            "_view_module": "@jupyter-widgets/controls",
            "_model_module_version": "1.5.0",
            "value": " 1/1 [00:10&lt;00:00, 10.83s/it]",
            "_view_count": null,
            "_view_module_version": "1.5.0",
            "description_tooltip": null,
            "_model_module": "@jupyter-widgets/controls",
            "layout": "IPY_MODEL_4ffdd79a79ee45028ac1ded0b75fa980"
          }
        },
        "80150bd355fa4a599a904b7acc7beb7b": {
          "model_module": "@jupyter-widgets/controls",
          "model_name": "ProgressStyleModel",
          "state": {
            "_view_name": "StyleView",
            "_model_name": "ProgressStyleModel",
            "description_width": "initial",
            "_view_module": "@jupyter-widgets/base",
            "_model_module_version": "1.5.0",
            "_view_count": null,
            "_view_module_version": "1.2.0",
            "bar_color": null,
            "_model_module": "@jupyter-widgets/controls"
          }
        },
        "7f29ecc484f84893a79cebfc3ca6d7cd": {
          "model_module": "@jupyter-widgets/base",
          "model_name": "LayoutModel",
          "state": {
            "_view_name": "LayoutView",
            "grid_template_rows": null,
            "right": null,
            "justify_content": null,
            "_view_module": "@jupyter-widgets/base",
            "overflow": null,
            "_model_module_version": "1.2.0",
            "_view_count": null,
            "flex_flow": null,
            "width": null,
            "min_width": null,
            "border": null,
            "align_items": null,
            "bottom": null,
            "_model_module": "@jupyter-widgets/base",
            "top": null,
            "grid_column": null,
            "overflow_y": null,
            "overflow_x": null,
            "grid_auto_flow": null,
            "grid_area": null,
            "grid_template_columns": null,
            "flex": null,
            "_model_name": "LayoutModel",
            "justify_items": null,
            "grid_row": null,
            "max_height": null,
            "align_content": null,
            "visibility": null,
            "align_self": null,
            "height": null,
            "min_height": null,
            "padding": null,
            "grid_auto_rows": null,
            "grid_gap": null,
            "max_width": null,
            "order": null,
            "_view_module_version": "1.2.0",
            "grid_template_areas": null,
            "object_position": null,
            "object_fit": null,
            "grid_auto_columns": null,
            "margin": null,
            "display": null,
            "left": null
          }
        },
        "2f6fc51c12624a4db36552a0ee818985": {
          "model_module": "@jupyter-widgets/controls",
          "model_name": "DescriptionStyleModel",
          "state": {
            "_view_name": "StyleView",
            "_model_name": "DescriptionStyleModel",
            "description_width": "",
            "_view_module": "@jupyter-widgets/base",
            "_model_module_version": "1.5.0",
            "_view_count": null,
            "_view_module_version": "1.2.0",
            "_model_module": "@jupyter-widgets/controls"
          }
        },
        "4ffdd79a79ee45028ac1ded0b75fa980": {
          "model_module": "@jupyter-widgets/base",
          "model_name": "LayoutModel",
          "state": {
            "_view_name": "LayoutView",
            "grid_template_rows": null,
            "right": null,
            "justify_content": null,
            "_view_module": "@jupyter-widgets/base",
            "overflow": null,
            "_model_module_version": "1.2.0",
            "_view_count": null,
            "flex_flow": null,
            "width": null,
            "min_width": null,
            "border": null,
            "align_items": null,
            "bottom": null,
            "_model_module": "@jupyter-widgets/base",
            "top": null,
            "grid_column": null,
            "overflow_y": null,
            "overflow_x": null,
            "grid_auto_flow": null,
            "grid_area": null,
            "grid_template_columns": null,
            "flex": null,
            "_model_name": "LayoutModel",
            "justify_items": null,
            "grid_row": null,
            "max_height": null,
            "align_content": null,
            "visibility": null,
            "align_self": null,
            "height": null,
            "min_height": null,
            "padding": null,
            "grid_auto_rows": null,
            "grid_gap": null,
            "max_width": null,
            "order": null,
            "_view_module_version": "1.2.0",
            "grid_template_areas": null,
            "object_position": null,
            "object_fit": null,
            "grid_auto_columns": null,
            "margin": null,
            "display": null,
            "left": null
          }
        },
        "943555864bc641feb7daa94aab8a13a5": {
          "model_module": "@jupyter-widgets/controls",
          "model_name": "HBoxModel",
          "state": {
            "_view_name": "HBoxView",
            "_dom_classes": [],
            "_model_name": "HBoxModel",
            "_view_module": "@jupyter-widgets/controls",
            "_model_module_version": "1.5.0",
            "_view_count": null,
            "_view_module_version": "1.5.0",
            "box_style": "",
            "layout": "IPY_MODEL_c715baedb9814285b566cd10e60c6a4d",
            "_model_module": "@jupyter-widgets/controls",
            "children": [
              "IPY_MODEL_6637331c46bb43a28cefe1b13f2a1a97",
              "IPY_MODEL_a7592f759abb4058b70ad349966e6e91"
            ]
          }
        },
        "c715baedb9814285b566cd10e60c6a4d": {
          "model_module": "@jupyter-widgets/base",
          "model_name": "LayoutModel",
          "state": {
            "_view_name": "LayoutView",
            "grid_template_rows": null,
            "right": null,
            "justify_content": null,
            "_view_module": "@jupyter-widgets/base",
            "overflow": null,
            "_model_module_version": "1.2.0",
            "_view_count": null,
            "flex_flow": null,
            "width": null,
            "min_width": null,
            "border": null,
            "align_items": null,
            "bottom": null,
            "_model_module": "@jupyter-widgets/base",
            "top": null,
            "grid_column": null,
            "overflow_y": null,
            "overflow_x": null,
            "grid_auto_flow": null,
            "grid_area": null,
            "grid_template_columns": null,
            "flex": null,
            "_model_name": "LayoutModel",
            "justify_items": null,
            "grid_row": null,
            "max_height": null,
            "align_content": null,
            "visibility": null,
            "align_self": null,
            "height": null,
            "min_height": null,
            "padding": null,
            "grid_auto_rows": null,
            "grid_gap": null,
            "max_width": null,
            "order": null,
            "_view_module_version": "1.2.0",
            "grid_template_areas": null,
            "object_position": null,
            "object_fit": null,
            "grid_auto_columns": null,
            "margin": null,
            "display": null,
            "left": null
          }
        },
        "6637331c46bb43a28cefe1b13f2a1a97": {
          "model_module": "@jupyter-widgets/controls",
          "model_name": "FloatProgressModel",
          "state": {
            "_view_name": "ProgressView",
            "style": "IPY_MODEL_d91dcc6a9ec94501bb7b521e55e38bfb",
            "_dom_classes": [],
            "description": "Render HTML: 100%",
            "_model_name": "FloatProgressModel",
            "bar_style": "success",
            "max": 1,
            "_view_module": "@jupyter-widgets/controls",
            "_model_module_version": "1.5.0",
            "value": 1,
            "_view_count": null,
            "_view_module_version": "1.5.0",
            "orientation": "horizontal",
            "min": 0,
            "description_tooltip": null,
            "_model_module": "@jupyter-widgets/controls",
            "layout": "IPY_MODEL_66fe16ad0de64f89b0c446bbf69cc3a2"
          }
        },
        "a7592f759abb4058b70ad349966e6e91": {
          "model_module": "@jupyter-widgets/controls",
          "model_name": "HTMLModel",
          "state": {
            "_view_name": "HTMLView",
            "style": "IPY_MODEL_561604265bde4973a445a7856039056f",
            "_dom_classes": [],
            "description": "",
            "_model_name": "HTMLModel",
            "placeholder": "​",
            "_view_module": "@jupyter-widgets/controls",
            "_model_module_version": "1.5.0",
            "value": " 1/1 [00:02&lt;00:00,  2.24s/it]",
            "_view_count": null,
            "_view_module_version": "1.5.0",
            "description_tooltip": null,
            "_model_module": "@jupyter-widgets/controls",
            "layout": "IPY_MODEL_87bbedaa442549f9818faf4253b8b9dd"
          }
        },
        "d91dcc6a9ec94501bb7b521e55e38bfb": {
          "model_module": "@jupyter-widgets/controls",
          "model_name": "ProgressStyleModel",
          "state": {
            "_view_name": "StyleView",
            "_model_name": "ProgressStyleModel",
            "description_width": "initial",
            "_view_module": "@jupyter-widgets/base",
            "_model_module_version": "1.5.0",
            "_view_count": null,
            "_view_module_version": "1.2.0",
            "bar_color": null,
            "_model_module": "@jupyter-widgets/controls"
          }
        },
        "66fe16ad0de64f89b0c446bbf69cc3a2": {
          "model_module": "@jupyter-widgets/base",
          "model_name": "LayoutModel",
          "state": {
            "_view_name": "LayoutView",
            "grid_template_rows": null,
            "right": null,
            "justify_content": null,
            "_view_module": "@jupyter-widgets/base",
            "overflow": null,
            "_model_module_version": "1.2.0",
            "_view_count": null,
            "flex_flow": null,
            "width": null,
            "min_width": null,
            "border": null,
            "align_items": null,
            "bottom": null,
            "_model_module": "@jupyter-widgets/base",
            "top": null,
            "grid_column": null,
            "overflow_y": null,
            "overflow_x": null,
            "grid_auto_flow": null,
            "grid_area": null,
            "grid_template_columns": null,
            "flex": null,
            "_model_name": "LayoutModel",
            "justify_items": null,
            "grid_row": null,
            "max_height": null,
            "align_content": null,
            "visibility": null,
            "align_self": null,
            "height": null,
            "min_height": null,
            "padding": null,
            "grid_auto_rows": null,
            "grid_gap": null,
            "max_width": null,
            "order": null,
            "_view_module_version": "1.2.0",
            "grid_template_areas": null,
            "object_position": null,
            "object_fit": null,
            "grid_auto_columns": null,
            "margin": null,
            "display": null,
            "left": null
          }
        },
        "561604265bde4973a445a7856039056f": {
          "model_module": "@jupyter-widgets/controls",
          "model_name": "DescriptionStyleModel",
          "state": {
            "_view_name": "StyleView",
            "_model_name": "DescriptionStyleModel",
            "description_width": "",
            "_view_module": "@jupyter-widgets/base",
            "_model_module_version": "1.5.0",
            "_view_count": null,
            "_view_module_version": "1.2.0",
            "_model_module": "@jupyter-widgets/controls"
          }
        },
        "87bbedaa442549f9818faf4253b8b9dd": {
          "model_module": "@jupyter-widgets/base",
          "model_name": "LayoutModel",
          "state": {
            "_view_name": "LayoutView",
            "grid_template_rows": null,
            "right": null,
            "justify_content": null,
            "_view_module": "@jupyter-widgets/base",
            "overflow": null,
            "_model_module_version": "1.2.0",
            "_view_count": null,
            "flex_flow": null,
            "width": null,
            "min_width": null,
            "border": null,
            "align_items": null,
            "bottom": null,
            "_model_module": "@jupyter-widgets/base",
            "top": null,
            "grid_column": null,
            "overflow_y": null,
            "overflow_x": null,
            "grid_auto_flow": null,
            "grid_area": null,
            "grid_template_columns": null,
            "flex": null,
            "_model_name": "LayoutModel",
            "justify_items": null,
            "grid_row": null,
            "max_height": null,
            "align_content": null,
            "visibility": null,
            "align_self": null,
            "height": null,
            "min_height": null,
            "padding": null,
            "grid_auto_rows": null,
            "grid_gap": null,
            "max_width": null,
            "order": null,
            "_view_module_version": "1.2.0",
            "grid_template_areas": null,
            "object_position": null,
            "object_fit": null,
            "grid_auto_columns": null,
            "margin": null,
            "display": null,
            "left": null
          }
        },
        "dfda681abd974990b9c16d8f7cbaab43": {
          "model_module": "@jupyter-widgets/controls",
          "model_name": "HBoxModel",
          "state": {
            "_view_name": "HBoxView",
            "_dom_classes": [],
            "_model_name": "HBoxModel",
            "_view_module": "@jupyter-widgets/controls",
            "_model_module_version": "1.5.0",
            "_view_count": null,
            "_view_module_version": "1.5.0",
            "box_style": "",
            "layout": "IPY_MODEL_8c2fb93410de4cda99c148668eb2d917",
            "_model_module": "@jupyter-widgets/controls",
            "children": [
              "IPY_MODEL_e2c7731637264d1d9fc7ce7222dc1fef",
              "IPY_MODEL_e040ec00237d4bfb8d2133994456c38d"
            ]
          }
        },
        "8c2fb93410de4cda99c148668eb2d917": {
          "model_module": "@jupyter-widgets/base",
          "model_name": "LayoutModel",
          "state": {
            "_view_name": "LayoutView",
            "grid_template_rows": null,
            "right": null,
            "justify_content": null,
            "_view_module": "@jupyter-widgets/base",
            "overflow": null,
            "_model_module_version": "1.2.0",
            "_view_count": null,
            "flex_flow": null,
            "width": null,
            "min_width": null,
            "border": null,
            "align_items": null,
            "bottom": null,
            "_model_module": "@jupyter-widgets/base",
            "top": null,
            "grid_column": null,
            "overflow_y": null,
            "overflow_x": null,
            "grid_auto_flow": null,
            "grid_area": null,
            "grid_template_columns": null,
            "flex": null,
            "_model_name": "LayoutModel",
            "justify_items": null,
            "grid_row": null,
            "max_height": null,
            "align_content": null,
            "visibility": null,
            "align_self": null,
            "height": null,
            "min_height": null,
            "padding": null,
            "grid_auto_rows": null,
            "grid_gap": null,
            "max_width": null,
            "order": null,
            "_view_module_version": "1.2.0",
            "grid_template_areas": null,
            "object_position": null,
            "object_fit": null,
            "grid_auto_columns": null,
            "margin": null,
            "display": null,
            "left": null
          }
        },
        "e2c7731637264d1d9fc7ce7222dc1fef": {
          "model_module": "@jupyter-widgets/controls",
          "model_name": "FloatProgressModel",
          "state": {
            "_view_name": "ProgressView",
            "style": "IPY_MODEL_d49c9cf2fc774004b6cfbd4de96b4215",
            "_dom_classes": [],
            "description": "Export report to file: 100%",
            "_model_name": "FloatProgressModel",
            "bar_style": "success",
            "max": 1,
            "_view_module": "@jupyter-widgets/controls",
            "_model_module_version": "1.5.0",
            "value": 1,
            "_view_count": null,
            "_view_module_version": "1.5.0",
            "orientation": "horizontal",
            "min": 0,
            "description_tooltip": null,
            "_model_module": "@jupyter-widgets/controls",
            "layout": "IPY_MODEL_7eca7ecf1f1c486b9df13c20822005e5"
          }
        },
        "e040ec00237d4bfb8d2133994456c38d": {
          "model_module": "@jupyter-widgets/controls",
          "model_name": "HTMLModel",
          "state": {
            "_view_name": "HTMLView",
            "style": "IPY_MODEL_5d281fe711c84965b733c1ab0d70211a",
            "_dom_classes": [],
            "description": "",
            "_model_name": "HTMLModel",
            "placeholder": "​",
            "_view_module": "@jupyter-widgets/controls",
            "_model_module_version": "1.5.0",
            "value": " 1/1 [00:01&lt;00:00,  1.28s/it]",
            "_view_count": null,
            "_view_module_version": "1.5.0",
            "description_tooltip": null,
            "_model_module": "@jupyter-widgets/controls",
            "layout": "IPY_MODEL_6ed47974598648e6bfb867496f8e32b0"
          }
        },
        "d49c9cf2fc774004b6cfbd4de96b4215": {
          "model_module": "@jupyter-widgets/controls",
          "model_name": "ProgressStyleModel",
          "state": {
            "_view_name": "StyleView",
            "_model_name": "ProgressStyleModel",
            "description_width": "initial",
            "_view_module": "@jupyter-widgets/base",
            "_model_module_version": "1.5.0",
            "_view_count": null,
            "_view_module_version": "1.2.0",
            "bar_color": null,
            "_model_module": "@jupyter-widgets/controls"
          }
        },
        "7eca7ecf1f1c486b9df13c20822005e5": {
          "model_module": "@jupyter-widgets/base",
          "model_name": "LayoutModel",
          "state": {
            "_view_name": "LayoutView",
            "grid_template_rows": null,
            "right": null,
            "justify_content": null,
            "_view_module": "@jupyter-widgets/base",
            "overflow": null,
            "_model_module_version": "1.2.0",
            "_view_count": null,
            "flex_flow": null,
            "width": null,
            "min_width": null,
            "border": null,
            "align_items": null,
            "bottom": null,
            "_model_module": "@jupyter-widgets/base",
            "top": null,
            "grid_column": null,
            "overflow_y": null,
            "overflow_x": null,
            "grid_auto_flow": null,
            "grid_area": null,
            "grid_template_columns": null,
            "flex": null,
            "_model_name": "LayoutModel",
            "justify_items": null,
            "grid_row": null,
            "max_height": null,
            "align_content": null,
            "visibility": null,
            "align_self": null,
            "height": null,
            "min_height": null,
            "padding": null,
            "grid_auto_rows": null,
            "grid_gap": null,
            "max_width": null,
            "order": null,
            "_view_module_version": "1.2.0",
            "grid_template_areas": null,
            "object_position": null,
            "object_fit": null,
            "grid_auto_columns": null,
            "margin": null,
            "display": null,
            "left": null
          }
        },
        "5d281fe711c84965b733c1ab0d70211a": {
          "model_module": "@jupyter-widgets/controls",
          "model_name": "DescriptionStyleModel",
          "state": {
            "_view_name": "StyleView",
            "_model_name": "DescriptionStyleModel",
            "description_width": "",
            "_view_module": "@jupyter-widgets/base",
            "_model_module_version": "1.5.0",
            "_view_count": null,
            "_view_module_version": "1.2.0",
            "_model_module": "@jupyter-widgets/controls"
          }
        },
        "6ed47974598648e6bfb867496f8e32b0": {
          "model_module": "@jupyter-widgets/base",
          "model_name": "LayoutModel",
          "state": {
            "_view_name": "LayoutView",
            "grid_template_rows": null,
            "right": null,
            "justify_content": null,
            "_view_module": "@jupyter-widgets/base",
            "overflow": null,
            "_model_module_version": "1.2.0",
            "_view_count": null,
            "flex_flow": null,
            "width": null,
            "min_width": null,
            "border": null,
            "align_items": null,
            "bottom": null,
            "_model_module": "@jupyter-widgets/base",
            "top": null,
            "grid_column": null,
            "overflow_y": null,
            "overflow_x": null,
            "grid_auto_flow": null,
            "grid_area": null,
            "grid_template_columns": null,
            "flex": null,
            "_model_name": "LayoutModel",
            "justify_items": null,
            "grid_row": null,
            "max_height": null,
            "align_content": null,
            "visibility": null,
            "align_self": null,
            "height": null,
            "min_height": null,
            "padding": null,
            "grid_auto_rows": null,
            "grid_gap": null,
            "max_width": null,
            "order": null,
            "_view_module_version": "1.2.0",
            "grid_template_areas": null,
            "object_position": null,
            "object_fit": null,
            "grid_auto_columns": null,
            "margin": null,
            "display": null,
            "left": null
          }
        }
      }
    }
  },
  "cells": [
    {
      "cell_type": "markdown",
      "metadata": {
        "id": "2y7BYlVO_kKW",
        "colab_type": "text"
      },
      "source": [
        "\n",
        "# **Understanding and Predicting Property Maintenance Fines**"
      ]
    },
    {
      "cell_type": "markdown",
      "metadata": {
        "id": "-4tY48Tw_zbA",
        "colab_type": "text"
      },
      "source": [
        "### **Objective:** *To predict whether a given blight ticket will be paid on time*."
      ]
    },
    {
      "cell_type": "markdown",
      "metadata": {
        "id": "q4jN76NIC3UM",
        "colab_type": "text"
      },
      "source": [
        "Evaluation Metric : **AUC**"
      ]
    },
    {
      "cell_type": "markdown",
      "metadata": {
        "id": "2YqaGs6YAZPy",
        "colab_type": "text"
      },
      "source": [
        "**File descriptions**\n",
        "\n",
        "train.csv - the training set (all tickets issued 2004-2011)\n",
        "\n",
        "test.csv - the test set (all tickets issued 2012-2016)\n",
        "\n",
        "addresses.csv & latlons.csv - mapping from ticket id to addresses, and from addresses to lat/lon coordinates.\n",
        "\n",
        "Note: misspelled addresses may be incorrectly geolocated.\n",
        "\n",
        "\n",
        "**Data fields**\n",
        "\n",
        "train.csv & test.csv\n",
        "\n",
        "ticket_id - unique identifier for tickets\n",
        "\n",
        "agency_name - Agency that issued the ticket\n",
        "\n",
        "inspector_name - Name of inspector that issued the ticket\n",
        "\n",
        "violator_name - Name of the person/organization that the ticket was issued to\n",
        "\n",
        "violation_street_number, violation_street_name, violation_zip_code - Address where the violation occurred\n",
        "mailing_address_str_number, mailing_address_str_name, city, state, zip_code, non_us_str_code, country - Mailing address of the violator\n",
        "\n",
        "ticket_issued_date - Date and time the ticket was issued\n",
        "hearing_date - Date and time the violator's hearing was scheduled\n",
        "\n",
        "violation_code, violation_description - Type of violation\n",
        "\n",
        "disposition - Judgment and judgement type\n",
        "\n",
        "fine_amount - Violation fine amount, excluding fees\n",
        "\n",
        "admin_fee - $20 fee assigned to responsible judgments\n",
        "\n",
        "state_fee - $10 fee assigned to responsible judgments \n",
        "\n",
        "late_fee - 10% fee assigned to responsible judgments \n",
        "\n",
        "discount_amount - discount applied, if any clean_up_cost - DPW clean-up or graffiti removal cost \n",
        "\n",
        "judgment_amount - Sum of all fines and fees \n",
        "\n",
        "grafitti_status - Flag for graffiti violations\n",
        "\n",
        "**train.csv only**\n",
        "\n",
        "payment_amount - Amount paid, if any\n",
        "\n",
        "payment_date - Date payment was made, if it was received\n",
        "\n",
        "payment_status - Current payment status as of Feb 1 2017\n",
        "\n",
        "balance_due - Fines and fees still owed\n",
        "\n",
        "collection_status - Flag for payments in collections\n",
        "\n",
        "compliance [target variable for prediction] \n",
        " Null = Not responsible\n",
        " 0 = Responsible, non-compliant\n",
        " 1 = Responsible, compliant\n",
        "\n",
        "compliance_detail - More information on why each ticket was marked compliant or non-compliant"
      ]
    },
    {
      "cell_type": "code",
      "metadata": {
        "id": "a3_G15l2YEYG",
        "colab_type": "code",
        "outputId": "72e4aecc-da18-49ca-ffa4-cf30a7507174",
        "colab": {
          "base_uri": "https://localhost:8080/",
          "height": 54
        }
      },
      "source": [
        "# Mounting our google drive to google colab.\n",
        "\n",
        "from google.colab import drive\n",
        "drive.mount('/content/drive')"
      ],
      "execution_count": 6,
      "outputs": [
        {
          "output_type": "stream",
          "text": [
            "Drive already mounted at /content/drive; to attempt to forcibly remount, call drive.mount(\"/content/drive\", force_remount=True).\n"
          ],
          "name": "stdout"
        }
      ]
    },
    {
      "cell_type": "code",
      "metadata": {
        "id": "6clmPpDLYK9t",
        "colab_type": "code",
        "colab": {}
      },
      "source": [
        "# Importing all the required modules and setting up the plot styles.\n",
        "\n",
        "import pandas as pd\n",
        "import numpy as np\n",
        "import matplotlib.pyplot as plt\n",
        "import seaborn as sns\n",
        "import itertools\n",
        "import time\n",
        "from scipy import stats\n",
        "from pandas_profiling import ProfileReport\n",
        "import warnings\n",
        "warnings.filterwarnings(\"ignore\")\n",
        "# pip install --upgrade pandas-profiling\n",
        "plt.style.use('seaborn')\n",
        "pd.set_option('float_format', '{:.2f}'.format)\n",
        "%matplotlib inline"
      ],
      "execution_count": 0,
      "outputs": []
    },
    {
      "cell_type": "code",
      "metadata": {
        "id": "hDVunYS9Ya4Y",
        "colab_type": "code",
        "colab": {}
      },
      "source": [
        "# Defining a function - reduce_memory that will reduce the size of our data\n",
        "# without loosing any information by converting the data types of the columns .\n",
        "\n",
        "def reduce_memory(df):\n",
        "  ''' This function take dataframe as an input and return a dataframe .This function convert the\n",
        "   data types of the columns in order to reduce the overall size of the dataframe'''\n",
        "  start=time.time()\n",
        "  initial_memory_usage=df.memory_usage().sum()/1024**2\n",
        "  for cols in df.columns :\n",
        "    if df[cols].dtype == object:\n",
        "      pass  \n",
        "    elif str(df[cols].dtype)[:3] =='int':\n",
        "      cols_min,cols_max=df[cols].min(),df[cols].max()\n",
        "      for data_type in [np.int8,np.int16,np.int32,np.int64]:\n",
        "        if cols_min > np.iinfo(data_type).min and cols_max < np.iinfo(data_type).max:\n",
        "          df[cols]=df[cols].astype(data_type)\n",
        "          break\n",
        "    elif str(df[cols].dtype)[:5] =='float':\n",
        "      cols_min,cols_max=df[cols].min(),df[cols].max()\n",
        "      for data_type in [np.float16,np.float32,np.float64]:\n",
        "        if cols_min > np.finfo(data_type).min and cols_max < np.finfo(data_type).max:\n",
        "          df[cols]=df[cols].astype(data_type)\n",
        "          break\n",
        "    \n",
        "  final_memory_usage=df.memory_usage().sum()/1024**2\n",
        "  print('Final DataFrame memory_usage:{}\\n Total memory saved (%): {}'.format(final_memory_usage,((initial_memory_usage-final_memory_usage)*100)/initial_memory_usage))\n",
        "  end=time.time()\n",
        "  print('Total time taken to reduce DataFrame : {} ms'.format((end-start)*1000))\n",
        "  return df \n"
      ],
      "execution_count": 0,
      "outputs": []
    },
    {
      "cell_type": "markdown",
      "metadata": {
        "id": "lLg1y3HOCIgB",
        "colab_type": "text"
      },
      "source": [
        "**Loading our dataset and performing data cleaning and preprocessing.**"
      ]
    },
    {
      "cell_type": "code",
      "metadata": {
        "id": "X_tRWm16Yt98",
        "colab_type": "code",
        "outputId": "1c44f43f-b298-4d43-8b4b-3719e6f0aadc",
        "colab": {
          "base_uri": "https://localhost:8080/",
          "height": 67
        }
      },
      "source": [
        "# Loading our data and reducing its size using the above defined function.\n",
        "\n",
        "initial_df=pd.read_csv('/content/drive/My Drive/train (1).csv',encoding='ISO-8859-1',parse_dates=['ticket_issued_date','hearing_date'])\n",
        "df1=reduce_memory(initial_df)\n",
        "latlon_df=pd.read_csv('/content/drive/My Drive/latlons.csv')\n",
        "address_df=pd.read_csv('/content/drive/My Drive/addresses.csv')"
      ],
      "execution_count": 9,
      "outputs": [
        {
          "output_type": "stream",
          "text": [
            "Final DataFrame memory_usage:47.74220275878906\n",
            " Total memory saved (%): 26.470538469311737\n",
            "Total time taken to reduce DataFrame : 97.41330146789551 ms\n"
          ],
          "name": "stdout"
        }
      ]
    },
    {
      "cell_type": "code",
      "metadata": {
        "id": "rf4lIteJETvA",
        "colab_type": "code",
        "colab": {}
      },
      "source": [
        "# Merging the address and latitude/longitude dataframe to our main dataframe .\n",
        "\n",
        "x=pd.merge(df1,address_df,on='ticket_id',how='left')\n",
        "df=pd.merge(x,latlon_df,on='address',how='left')"
      ],
      "execution_count": 0,
      "outputs": []
    },
    {
      "cell_type": "code",
      "metadata": {
        "id": "OH_FNmmOY4rf",
        "colab_type": "code",
        "colab": {
          "base_uri": "https://localhost:8080/",
          "height": 212,
          "referenced_widgets": [
            "99a078ed06df4eef8f22bb6522bd5d1c",
            "c12c169a6ffe48239559b38dba3d798d",
            "681b4885d3324f07a0ea601142f5ff1c",
            "50dc2ff0752049849462a3cfd7c8b819",
            "eb762bb23dff416c95f7373a1b905e1e",
            "687d78abc6a54aabbe2fa7d1ec6966fd",
            "04dc0e3304eb4d0aa68336780b7030c1",
            "0d60a1fc5a404b8c9490a433972a22a9",
            "a90cae73e0bf4e7080fbb621cb245eac",
            "c381b30e99c8449fb5fa0e07ccd0eb21",
            "ae1c494dcbda42918a9fa6464a2c42ca",
            "b59f577312884476b1510de187c81e80",
            "80150bd355fa4a599a904b7acc7beb7b",
            "7f29ecc484f84893a79cebfc3ca6d7cd",
            "2f6fc51c12624a4db36552a0ee818985",
            "4ffdd79a79ee45028ac1ded0b75fa980",
            "943555864bc641feb7daa94aab8a13a5",
            "c715baedb9814285b566cd10e60c6a4d",
            "6637331c46bb43a28cefe1b13f2a1a97",
            "a7592f759abb4058b70ad349966e6e91",
            "d91dcc6a9ec94501bb7b521e55e38bfb",
            "66fe16ad0de64f89b0c446bbf69cc3a2",
            "561604265bde4973a445a7856039056f",
            "87bbedaa442549f9818faf4253b8b9dd",
            "dfda681abd974990b9c16d8f7cbaab43",
            "8c2fb93410de4cda99c148668eb2d917",
            "e2c7731637264d1d9fc7ce7222dc1fef",
            "e040ec00237d4bfb8d2133994456c38d",
            "d49c9cf2fc774004b6cfbd4de96b4215",
            "7eca7ecf1f1c486b9df13c20822005e5",
            "5d281fe711c84965b733c1ab0d70211a",
            "6ed47974598648e6bfb867496f8e32b0"
          ]
        },
        "outputId": "217592ce-7dbc-4538-b9e3-4b5feace7593"
      },
      "source": [
        "# Using Pandas profiling to get an overview on the whole data\n",
        "\n",
        "report = ProfileReport(df,minimal=True,title=\"My dataframe report\")\n",
        "report.to_file('/content/drive/My Drive/my_report.html')"
      ],
      "execution_count": 11,
      "outputs": [
        {
          "output_type": "display_data",
          "data": {
            "application/vnd.jupyter.widget-view+json": {
              "model_id": "99a078ed06df4eef8f22bb6522bd5d1c",
              "version_minor": 0,
              "version_major": 2
            },
            "text/plain": [
              "HBox(children=(FloatProgress(value=0.0, description='Summarize dataset', max=46.0, style=ProgressStyle(descrip…"
            ]
          },
          "metadata": {
            "tags": []
          }
        },
        {
          "output_type": "stream",
          "text": [
            "\n"
          ],
          "name": "stdout"
        },
        {
          "output_type": "display_data",
          "data": {
            "application/vnd.jupyter.widget-view+json": {
              "model_id": "a90cae73e0bf4e7080fbb621cb245eac",
              "version_minor": 0,
              "version_major": 2
            },
            "text/plain": [
              "HBox(children=(FloatProgress(value=0.0, description='Generate report structure', max=1.0, style=ProgressStyle(…"
            ]
          },
          "metadata": {
            "tags": []
          }
        },
        {
          "output_type": "stream",
          "text": [
            "\n"
          ],
          "name": "stdout"
        },
        {
          "output_type": "display_data",
          "data": {
            "application/vnd.jupyter.widget-view+json": {
              "model_id": "943555864bc641feb7daa94aab8a13a5",
              "version_minor": 0,
              "version_major": 2
            },
            "text/plain": [
              "HBox(children=(FloatProgress(value=0.0, description='Render HTML', max=1.0, style=ProgressStyle(description_wi…"
            ]
          },
          "metadata": {
            "tags": []
          }
        },
        {
          "output_type": "stream",
          "text": [
            "\n"
          ],
          "name": "stdout"
        },
        {
          "output_type": "display_data",
          "data": {
            "application/vnd.jupyter.widget-view+json": {
              "model_id": "dfda681abd974990b9c16d8f7cbaab43",
              "version_minor": 0,
              "version_major": 2
            },
            "text/plain": [
              "HBox(children=(FloatProgress(value=0.0, description='Export report to file', max=1.0, style=ProgressStyle(desc…"
            ]
          },
          "metadata": {
            "tags": []
          }
        },
        {
          "output_type": "stream",
          "text": [
            "\n"
          ],
          "name": "stdout"
        }
      ]
    },
    {
      "cell_type": "code",
      "metadata": {
        "id": "wpyiyv0Ofhc7",
        "colab_type": "code",
        "colab": {}
      },
      "source": [
        "# Droping rows with Nan values in our target variable (dependent variable)\n",
        "\n",
        "df.dropna(how='any',axis=0,subset=['compliance'],inplace=True)"
      ],
      "execution_count": 0,
      "outputs": []
    },
    {
      "cell_type": "code",
      "metadata": {
        "id": "xvPN4ev1if1I",
        "colab_type": "code",
        "outputId": "9e3667ec-c561-4ca3-b2f8-4c9493b21226",
        "colab": {
          "base_uri": "https://localhost:8080/",
          "height": 34
        }
      },
      "source": [
        "# Checking if our dataframe contains any duplicate data\n",
        "\n",
        "df.duplicated().sum()"
      ],
      "execution_count": 13,
      "outputs": [
        {
          "output_type": "execute_result",
          "data": {
            "text/plain": [
              "0"
            ]
          },
          "metadata": {
            "tags": []
          },
          "execution_count": 13
        }
      ]
    },
    {
      "cell_type": "code",
      "metadata": {
        "id": "tT43smHeg-0X",
        "colab_type": "code",
        "outputId": "e2ecfeeb-9464-4167-b745-fbdb965287c0",
        "colab": {
          "base_uri": "https://localhost:8080/",
          "height": 67
        }
      },
      "source": [
        "# Checking for class imbalance.\n",
        "\n",
        "df['compliance'].value_counts()"
      ],
      "execution_count": 14,
      "outputs": [
        {
          "output_type": "execute_result",
          "data": {
            "text/plain": [
              "0.00    148283\n",
              "1.00     11597\n",
              "Name: compliance, dtype: int64"
            ]
          },
          "metadata": {
            "tags": []
          },
          "execution_count": 14
        }
      ]
    },
    {
      "cell_type": "code",
      "metadata": {
        "id": "i14h_HIThpSM",
        "colab_type": "code",
        "colab": {}
      },
      "source": [
        "def unique_values_df(df):\n",
        "  '''Takes dataframe as input and returns a dataframe \n",
        "  of unique values in each colummn of that dataframe.'''\n",
        "\n",
        "  unique_values = {k:v for (k,v) in zip(df.columns,df[df.columns].nunique())}\n",
        "  result=dict(sorted(unique_values.items(),key= lambda x:x[1],reverse=True))\n",
        "  return pd.DataFrame(data=result.values(),index=result.keys(),columns=['unique values'])\n",
        "\n",
        "def nan_values_df(df):\n",
        "  '''Takes dataframe as input and returns a dataframe\n",
        "   of percentage of Nan values in each colummn of that dataframe.'''\n",
        "\n",
        "  nan_values={k:v for (k,v) in zip(df.columns,((df[df.columns].isna().sum())*100)/len(df[df.columns])) }\n",
        "  result=dict(sorted(nan_values.items(),key=lambda x:x[1],reverse=True))\n",
        "  return pd.DataFrame(data=result.values(),index=result.keys(),columns=['% Nan values'])"
      ],
      "execution_count": 0,
      "outputs": []
    },
    {
      "cell_type": "code",
      "metadata": {
        "id": "cyeEw_XwiPM6",
        "colab_type": "code",
        "outputId": "db52ec40-4933-4933-c49e-ef13de7bda32",
        "colab": {
          "base_uri": "https://localhost:8080/",
          "height": 1000
        }
      },
      "source": [
        "# Checking for unique values and Nan values in train/test data before preprocessing and encoding.\n",
        "\n",
        "(unique_values_df(df),nan_values_df(df))"
      ],
      "execution_count": 16,
      "outputs": [
        {
          "output_type": "execute_result",
          "data": {
            "text/plain": [
              "(                            unique values\n",
              " ticket_id                          159880\n",
              " violator_name                       84656\n",
              " address                             71901\n",
              " ticket_issued_date                  68097\n",
              " lon                                 66839\n",
              " lat                                 61559\n",
              " mailing_address_str_name            28440\n",
              " violation_street_number             18096\n",
              " mailing_address_str_number          14090\n",
              " hearing_date                         5970\n",
              " zip_code                             4622\n",
              " city                                 4093\n",
              " payment_date                         2307\n",
              " violation_street_name                1716\n",
              " balance_due                           603\n",
              " payment_amount                        517\n",
              " violation_description                 207\n",
              " violation_code                        189\n",
              " inspector_name                        159\n",
              " state                                  59\n",
              " judgment_amount                        57\n",
              " fine_amount                            40\n",
              " late_fee                               37\n",
              " discount_amount                        13\n",
              " compliance_detail                       8\n",
              " agency_name                             5\n",
              " country                                 5\n",
              " disposition                             4\n",
              " payment_status                          3\n",
              " non_us_str_code                         2\n",
              " compliance                              2\n",
              " admin_fee                               1\n",
              " state_fee                               1\n",
              " clean_up_cost                           1\n",
              " collection_status                       1\n",
              " violation_zip_code                      0\n",
              " grafitti_status                         0,\n",
              "                             % Nan values\n",
              " violation_zip_code                100.00\n",
              " grafitti_status                   100.00\n",
              " non_us_str_code                   100.00\n",
              " collection_status                  76.92\n",
              " payment_date                       75.22\n",
              " mailing_address_str_number          1.60\n",
              " hearing_date                        0.14\n",
              " state                               0.05\n",
              " violator_name                       0.02\n",
              " mailing_address_str_name            0.00\n",
              " lat                                 0.00\n",
              " lon                                 0.00\n",
              " zip_code                            0.00\n",
              " ticket_id                           0.00\n",
              " agency_name                         0.00\n",
              " inspector_name                      0.00\n",
              " violation_street_number             0.00\n",
              " violation_street_name               0.00\n",
              " city                                0.00\n",
              " country                             0.00\n",
              " ticket_issued_date                  0.00\n",
              " violation_code                      0.00\n",
              " violation_description               0.00\n",
              " disposition                         0.00\n",
              " fine_amount                         0.00\n",
              " admin_fee                           0.00\n",
              " state_fee                           0.00\n",
              " late_fee                            0.00\n",
              " discount_amount                     0.00\n",
              " clean_up_cost                       0.00\n",
              " judgment_amount                     0.00\n",
              " payment_amount                      0.00\n",
              " balance_due                         0.00\n",
              " payment_status                      0.00\n",
              " compliance_detail                   0.00\n",
              " compliance                          0.00\n",
              " address                             0.00)"
            ]
          },
          "metadata": {
            "tags": []
          },
          "execution_count": 16
        }
      ]
    },
    {
      "cell_type": "code",
      "metadata": {
        "id": "5NK6wkC3WZTP",
        "colab_type": "code",
        "colab": {}
      },
      "source": [
        "def custom_preprocessing(df):\n",
        "  ''' This function take dataframe as a input, \n",
        "      performs preprocesing on it and then returns it as a dataframe.'''\n",
        "  \n",
        "  # Droping the columns which has more than 75 % Nan values as it will make\n",
        "  # the feature space very sparse and also won't provide any useful information in prediction.\n",
        "  df.drop(['grafitti_status','collection_status','payment_date','non_us_str_code','violation_zip_code'],axis=1,inplace=True)\n",
        "  \n",
        "  # Converting columns data type to 'category' for columns which has less than 300 unique values.\n",
        "  for i in df.columns:\n",
        "    if str(df[i].dtype) == 'object' and df[i].nunique()<300:\n",
        "      df[i]=df[i].astype('category')\n",
        "\n",
        "  # Droping 'clean_up_cost' column as it has only one unique value (constant for all data)\n",
        "  # and so variance is zero and therefore wont provide any useful information in prediction . \n",
        "  df.drop('clean_up_cost',axis=1,inplace=True)\n",
        "  \n",
        "  # Droping the columns which wont be available in test set (also in real world) so as to avoid data leakage during training our model.\n",
        "  df.drop(['payment_amount','payment_status','balance_due','compliance_detail'],axis=1,inplace=True)\n",
        "\n",
        "  # Creating new colummn-Total_fee as the sum of admin_fee,state_fee and late_fee and dropping the old columns .\n",
        "  df['Total_fee']=df['admin_fee']+df['state_fee']+df['late_fee']\n",
        "  df.drop(['admin_fee','state_fee','late_fee'],axis=1,inplace=True)\n",
        "\n",
        "  # Removing outliers in country column and then droping Country column as it is constant (USA)\n",
        "  df=df.loc[df['country']=='USA',:]\n",
        "  df.drop('country',inplace=True,axis=1)\n",
        "\n",
        "  # Droping address ,city,state,zip_code column as its information is already there in lat and lon column .\n",
        "  # Droping violator_name column as there are more than 50% unique value and i feel it wont provide any useful information in prediction. \n",
        "  df.drop(['violation_street_number','violation_street_name','violator_name','address','state','zip_code','city','mailing_address_str_name','mailing_address_str_number'],axis=1,inplace=True)\n",
        "  df.dropna(how='any',inplace=True)\n",
        "\n",
        "  return df\n"
      ],
      "execution_count": 0,
      "outputs": []
    },
    {
      "cell_type": "code",
      "metadata": {
        "id": "4N-G54-_UzH1",
        "colab_type": "code",
        "colab": {}
      },
      "source": [
        "df=custom_preprocessing(df)"
      ],
      "execution_count": 0,
      "outputs": []
    },
    {
      "cell_type": "code",
      "metadata": {
        "id": "00aT_01OUowo",
        "colab_type": "code",
        "colab": {}
      },
      "source": [
        "# Performing train/test split with stratify=compliance field as there is class imbalance.\n",
        "\n",
        "from sklearn.model_selection import train_test_split\n",
        "X=df.drop('compliance',axis=1)\n",
        "y=df.loc[:,'compliance']\n",
        "\n",
        "X_train,X_test,y_train,y_test =train_test_split(X,y,test_size=0.2,stratify=df['compliance'],random_state=121)"
      ],
      "execution_count": 0,
      "outputs": []
    },
    {
      "cell_type": "code",
      "metadata": {
        "id": "XYKghDFvK8aw",
        "colab_type": "code",
        "colab": {}
      },
      "source": [
        "def custom_encoding(train_df,test_df=None):\n",
        "  '''This function take train and test dataframe as a input, \n",
        "      performs encoding of the categorical features and then returns it as a dataframe.\n",
        "      The filling values is calculated from the train data and is filled for both the trian and test data in order\n",
        "      to avoid data leakage and make our test set as similar to train set as possible '''\n",
        "\n",
        "  # Filling Nan values in hearing_date column with most frequent hearing date\n",
        "  # (mode)and creating a new feature-Days_difference which is the difference of hearing_date and ticket_issued_date\n",
        "  mode=list(stats.mode(train_df['hearing_date']))[0][0]\n",
        "  train_df['hearing_date'].fillna(value=mode,inplace=True)\n",
        "  train_df['Days_difference']=train_df['hearing_date']-train_df['ticket_issued_date']\n",
        "  train_df['Days_difference']=train_df['Days_difference'].dt.days\n",
        "  train_df.drop(['ticket_issued_date','hearing_date'],axis=1,inplace=True)\n",
        "  # Filling Nan values in test dataframe with the mode calculated from the train dataframe,so as to avoid data leakage.\n",
        "  test_df['hearing_date'].fillna(value=mode,inplace=True)\n",
        "  test_df['Days_difference']=test_df['hearing_date']-test_df['ticket_issued_date']\n",
        "  test_df['Days_difference']=test_df['Days_difference'].dt.days\n",
        "  test_df.drop(['ticket_issued_date','hearing_date'],axis=1,inplace=True)\n",
        "\n",
        "  # Encoding the column with the counts of each unique name.This will not make\n",
        "  # the feature space sparse when there are more number of unique catgorical values\n",
        "  my_map=train_df['inspector_name'].value_counts().to_dict()\n",
        "  train_df['inspector_name']=train_df['inspector_name'].map(my_map)\n",
        "  test_df['inspector_name']=test_df['inspector_name'].map(my_map)\n",
        "\n",
        "  my_map1=train_df['violation_description'].value_counts().to_dict()\n",
        "  train_df['violation_description']=train_df['violation_description'].map(my_map1)\n",
        "  test_df['violation_description']=test_df['violation_description'].map(my_map1)\n",
        "\n",
        "  my_map2=train_df['violation_code'].value_counts().to_dict()\n",
        "  train_df['violation_code']=train_df['violation_code'].map(my_map2)\n",
        "  test_df['violation_code']=test_df['violation_code'].map(my_map2)\n",
        "\n",
        "  # Encoding disposition column like OneHotEncoder but only for the top 4 values.\n",
        "  my_list=train_df['disposition'].value_counts().head(4).index\n",
        "  for i in my_list:\n",
        "    train_df[i]=np.where(train_df['disposition']==i,1,0)\n",
        "    test_df[i]=np.where(test_df['disposition']==i,1,0)\n",
        "  train_df.drop('disposition',axis=1,inplace=True)\n",
        "  test_df.drop('disposition',axis=1,inplace=True)\n",
        "\n",
        "  # Encoding agency_name column like OneHotEncoder but only for the top 4 values\n",
        "  my_list1=train_df['agency_name'].value_counts().head(4).index\n",
        "  for i in my_list1:\n",
        "    train_df[i]=np.where(train_df['agency_name']==i,1,0)\n",
        "    test_df[i]=np.where(test_df['agency_name']==i,1,0)\n",
        "  train_df.drop('agency_name',axis=1,inplace=True)\n",
        "  test_df.drop('agency_name',axis=1,inplace=True)\n",
        "\n",
        "  train_df.drop('Health Department',axis=1,inplace=True)\n",
        "  test_df.drop('Health Department',axis=1,inplace=True)\n",
        "  return train_df,test_df"
      ],
      "execution_count": 0,
      "outputs": []
    },
    {
      "cell_type": "code",
      "metadata": {
        "id": "JHOHn0Z6PXqi",
        "colab_type": "code",
        "colab": {}
      },
      "source": [
        "X_train,X_test=custom_encoding(X_train,X_test)"
      ],
      "execution_count": 0,
      "outputs": []
    },
    {
      "cell_type": "code",
      "metadata": {
        "id": "qAGL_iG1cnMB",
        "colab_type": "code",
        "outputId": "d7028aa4-b97e-4486-fc3c-5ba8c7517aa1",
        "colab": {
          "base_uri": "https://localhost:8080/",
          "height": 874
        }
      },
      "source": [
        "X_train.info(),X_test.info()"
      ],
      "execution_count": 22,
      "outputs": [
        {
          "output_type": "stream",
          "text": [
            "<class 'pandas.core.frame.DataFrame'>\n",
            "Int64Index: 127712 entries, 93145 to 128601\n",
            "Data columns (total 18 columns):\n",
            " #   Column                                          Non-Null Count   Dtype  \n",
            "---  ------                                          --------------   -----  \n",
            " 0   ticket_id                                       127712 non-null  int32  \n",
            " 1   inspector_name                                  127712 non-null  int64  \n",
            " 2   violation_code                                  127712 non-null  int64  \n",
            " 3   violation_description                           127712 non-null  int64  \n",
            " 4   fine_amount                                     127712 non-null  float16\n",
            " 5   discount_amount                                 127712 non-null  float16\n",
            " 6   judgment_amount                                 127712 non-null  float16\n",
            " 7   lat                                             127712 non-null  float64\n",
            " 8   lon                                             127712 non-null  float64\n",
            " 9   Total_fee                                       127712 non-null  float16\n",
            " 10  Days_difference                                 127712 non-null  int64  \n",
            " 11  Responsible by Default                          127712 non-null  int64  \n",
            " 12  Responsible by Admission                        127712 non-null  int64  \n",
            " 13  Responsible by Determination                    127712 non-null  int64  \n",
            " 14  Responsible (Fine Waived) by Deter              127712 non-null  int64  \n",
            " 15  Buildings, Safety Engineering & Env Department  127712 non-null  int64  \n",
            " 16  Department of Public Works                      127712 non-null  int64  \n",
            " 17  Detroit Police Department                       127712 non-null  int64  \n",
            "dtypes: float16(4), float64(2), int32(1), int64(11)\n",
            "memory usage: 15.1 MB\n",
            "<class 'pandas.core.frame.DataFrame'>\n",
            "Int64Index: 31928 entries, 112736 to 222195\n",
            "Data columns (total 18 columns):\n",
            " #   Column                                          Non-Null Count  Dtype  \n",
            "---  ------                                          --------------  -----  \n",
            " 0   ticket_id                                       31928 non-null  int32  \n",
            " 1   inspector_name                                  31928 non-null  int64  \n",
            " 2   violation_code                                  31928 non-null  int64  \n",
            " 3   violation_description                           31928 non-null  int64  \n",
            " 4   fine_amount                                     31928 non-null  float16\n",
            " 5   discount_amount                                 31928 non-null  float16\n",
            " 6   judgment_amount                                 31928 non-null  float16\n",
            " 7   lat                                             31928 non-null  float64\n",
            " 8   lon                                             31928 non-null  float64\n",
            " 9   Total_fee                                       31928 non-null  float16\n",
            " 10  Days_difference                                 31928 non-null  int64  \n",
            " 11  Responsible by Default                          31928 non-null  int64  \n",
            " 12  Responsible by Admission                        31928 non-null  int64  \n",
            " 13  Responsible by Determination                    31928 non-null  int64  \n",
            " 14  Responsible (Fine Waived) by Deter              31928 non-null  int64  \n",
            " 15  Buildings, Safety Engineering & Env Department  31928 non-null  int64  \n",
            " 16  Department of Public Works                      31928 non-null  int64  \n",
            " 17  Detroit Police Department                       31928 non-null  int64  \n",
            "dtypes: float16(4), float64(2), int32(1), int64(11)\n",
            "memory usage: 3.8 MB\n"
          ],
          "name": "stdout"
        },
        {
          "output_type": "execute_result",
          "data": {
            "text/plain": [
              "(None, None)"
            ]
          },
          "metadata": {
            "tags": []
          },
          "execution_count": 22
        }
      ]
    },
    {
      "cell_type": "code",
      "metadata": {
        "id": "pSRzvE4_PhNG",
        "colab_type": "code",
        "outputId": "64e1c47d-4b24-4692-9d35-380eb0a85752",
        "colab": {
          "base_uri": "https://localhost:8080/",
          "height": 655
        }
      },
      "source": [
        "# Checking for unique values and Nan values in train/test data after preprocessing and encoding.\n",
        "\n",
        "(unique_values_df(X_test),nan_values_df(X_test))"
      ],
      "execution_count": 23,
      "outputs": [
        {
          "output_type": "execute_result",
          "data": {
            "text/plain": [
              "(                                                unique values\n",
              " ticket_id                                               31928\n",
              " lon                                                     24369\n",
              " lat                                                     23594\n",
              " Days_difference                                           401\n",
              " inspector_name                                            123\n",
              " violation_description                                      78\n",
              " violation_code                                             77\n",
              " judgment_amount                                            41\n",
              " fine_amount                                                26\n",
              " Total_fee                                                  24\n",
              " discount_amount                                            10\n",
              " Responsible by Default                                      2\n",
              " Responsible by Admission                                    2\n",
              " Responsible by Determination                                2\n",
              " Responsible (Fine Waived) by Deter                          2\n",
              " Buildings, Safety Engineering & Env Department              2\n",
              " Department of Public Works                                  2\n",
              " Detroit Police Department                                   2,\n",
              "                                                 % Nan values\n",
              " ticket_id                                               0.00\n",
              " inspector_name                                          0.00\n",
              " violation_code                                          0.00\n",
              " violation_description                                   0.00\n",
              " fine_amount                                             0.00\n",
              " discount_amount                                         0.00\n",
              " judgment_amount                                         0.00\n",
              " lat                                                     0.00\n",
              " lon                                                     0.00\n",
              " Total_fee                                               0.00\n",
              " Days_difference                                         0.00\n",
              " Responsible by Default                                  0.00\n",
              " Responsible by Admission                                0.00\n",
              " Responsible by Determination                            0.00\n",
              " Responsible (Fine Waived) by Deter                      0.00\n",
              " Buildings, Safety Engineering & Env Department          0.00\n",
              " Department of Public Works                              0.00\n",
              " Detroit Police Department                               0.00)"
            ]
          },
          "metadata": {
            "tags": []
          },
          "execution_count": 23
        }
      ]
    },
    {
      "cell_type": "code",
      "metadata": {
        "id": "-Tl49R6CdioX",
        "colab_type": "code",
        "outputId": "f60eea84-4752-448d-cdb0-ace38490711c",
        "colab": {
          "base_uri": "https://localhost:8080/",
          "height": 664
        }
      },
      "source": [
        "# Visualizing the distribution of data in our train dataset.\n",
        "\n",
        "X_train.hist(figsize=(15,10));\n",
        "plt.tight_layout()"
      ],
      "execution_count": 24,
      "outputs": [
        {
          "output_type": "display_data",
          "data": {
            "image/png": "[encoded data removed]",
            "text/plain": [
              "<Figure size 1080x720 with 20 Axes>"
            ]
          },
          "metadata": {
            "tags": [],
            "needs_background": "light"
          }
        }
      ]
    },
    {
      "cell_type": "code",
      "metadata": {
        "id": "pMg_gAnBN3t8",
        "colab_type": "code",
        "outputId": "e0948a73-4ead-403b-c838-15c77cf798a9",
        "colab": {
          "base_uri": "https://localhost:8080/",
          "height": 118
        }
      },
      "source": [
        "# Checking if both train and test set has equal percentage of 0 and 1.\n",
        "\n",
        "print(y_train.value_counts())\n",
        "print(y_test.value_counts())"
      ],
      "execution_count": 25,
      "outputs": [
        {
          "output_type": "stream",
          "text": [
            "0.00    118569\n",
            "1.00      9143\n",
            "Name: compliance, dtype: int64\n",
            "0.00    29642\n",
            "1.00     2286\n",
            "Name: compliance, dtype: int64\n"
          ],
          "name": "stdout"
        }
      ]
    },
    {
      "cell_type": "markdown",
      "metadata": {
        "id": "fisrbc5T-tmy",
        "colab_type": "text"
      },
      "source": [
        "**Trying feature selection using different techniques**"
      ]
    },
    {
      "cell_type": "code",
      "metadata": {
        "id": "wSUq37VA_SRb",
        "colab_type": "code",
        "colab": {}
      },
      "source": [
        "from sklearn.ensemble import RandomForestClassifier\n",
        "from sklearn.model_selection import GridSearchCV\n",
        "from sklearn.metrics import auc,f1_score,confusion_matrix,roc_auc_score,accuracy_score"
      ],
      "execution_count": 0,
      "outputs": []
    },
    {
      "cell_type": "code",
      "metadata": {
        "id": "kKQ48fbodtqM",
        "colab_type": "code",
        "outputId": "b45926bf-da33-4e46-8389-f90813b7f988",
        "colab": {
          "base_uri": "https://localhost:8080/",
          "height": 483
        }
      },
      "source": [
        "# Fitting a RandomForestClassifier to the train data to find out feature importance. \n",
        "\n",
        "clf=RandomForestClassifier(class_weight='balanced',n_jobs=-1)\n",
        "clf.fit(X_train,y_train)\n",
        "\n",
        "# Feature importance as per  RandomForestClassifier.\n",
        "\n",
        "plt.figure(figsize=(10,8))\n",
        "my_dict={k:v for (k,v) in zip(X_train.columns ,clf.feature_importances_)}\n",
        "result=dict(sorted(my_dict.items(),key=lambda x:x[1],reverse=True))\n",
        "plt.barh(y=list(result.keys()) , width=result.values());"
      ],
      "execution_count": 27,
      "outputs": [
        {
          "output_type": "display_data",
          "data": {
            "image/png": "[encoded data removed]",
            "text/plain": [
              "<Figure size 720x576 with 1 Axes>"
            ]
          },
          "metadata": {
            "tags": [],
            "needs_background": "light"
          }
        }
      ]
    },
    {
      "cell_type": "code",
      "metadata": {
        "id": "bM9eYm5PxckA",
        "colab_type": "code",
        "outputId": "e5ea8faf-5c1e-4868-9fff-52b1966ad24f",
        "colab": {
          "base_uri": "https://localhost:8080/",
          "height": 483
        }
      },
      "source": [
        "# Feature scores based on ANOVA test\n",
        "\n",
        "from sklearn.feature_selection import chi2,SelectKBest,f_classif\n",
        "result=SelectKBest(score_func=f_classif,k=10).fit(X_test,y_test)\n",
        "my_dict={k:v for (k,v) in zip(X_test.columns,result.scores_)}\n",
        "result=dict(sorted(my_dict.items(),key=lambda x:x[1],reverse=True))\n",
        "plt.figure(figsize=(10,8))\n",
        "plt.barh(y=list(result.keys()) , width=result.values());"
      ],
      "execution_count": 28,
      "outputs": [
        {
          "output_type": "display_data",
          "data": {
            "image/png": "[encoded data removed]",
            "text/plain": [
              "<Figure size 720x576 with 1 Axes>"
            ]
          },
          "metadata": {
            "tags": [],
            "needs_background": "light"
          }
        }
      ]
    },
    {
      "cell_type": "code",
      "metadata": {
        "id": "xT7ITNO1yVAc",
        "colab_type": "code",
        "outputId": "a89e9d37-c603-44c4-a62c-4e7b91d15205",
        "colab": {
          "base_uri": "https://localhost:8080/",
          "height": 500
        }
      },
      "source": [
        "# Feature scores based on correlation with the target value.\n",
        "\n",
        "new_df=pd.concat([X_train,y_train],axis=1)\n",
        "result=new_df.corr().loc[:,'compliance'].sort_values(ascending=False)\n",
        "plt.figure(figsize=(10,8))\n",
        "plt.barh(y=list(result.index) , width=result.values)"
      ],
      "execution_count": 29,
      "outputs": [
        {
          "output_type": "execute_result",
          "data": {
            "text/plain": [
              "<BarContainer object of 19 artists>"
            ]
          },
          "metadata": {
            "tags": []
          },
          "execution_count": 29
        },
        {
          "output_type": "display_data",
          "data": {
            "image/png": "[encoded data removed]",
            "text/plain": [
              "<Figure size 720x576 with 1 Axes>"
            ]
          },
          "metadata": {
            "tags": [],
            "needs_background": "light"
          }
        }
      ]
    },
    {
      "cell_type": "markdown",
      "metadata": {
        "id": "am7f1hcY-hY8",
        "colab_type": "text"
      },
      "source": [
        "**Training different ML models and evaluating it.**"
      ]
    },
    {
      "cell_type": "code",
      "metadata": {
        "id": "l53QrG_L_N2e",
        "colab_type": "code",
        "colab": {}
      },
      "source": [
        "def custom_evaluation(clf,X_test,y_test):\n",
        "  '''This function takes the classifier,X_test \n",
        "  and y_test as input and print its evaluation scores'''\n",
        "\n",
        "  y_predicted=clf.predict(X_test)\n",
        "  predict_proba_output=clf.predict_proba(X_test)[:,1]\n",
        "  print('auc_score :{:.2f} '.format(roc_auc_score(y_test,predict_proba_output)))\n",
        "  print('F1 score:{:.2f} '.format(f1_score(y_test,y_predicted)))\n",
        "  print('Accuracy:{:.2f} '.format(accuracy_score(y_test,y_predicted)))\n",
        "  print('Confusion_matrix:\\n',confusion_matrix(y_test,y_predicted))"
      ],
      "execution_count": 0,
      "outputs": []
    },
    {
      "cell_type": "code",
      "metadata": {
        "id": "umkKDU-UAgkf",
        "colab_type": "code",
        "outputId": "c748ece7-6e3d-41c8-c9c2-e052f6929976",
        "colab": {
          "base_uri": "https://localhost:8080/",
          "height": 118
        }
      },
      "source": [
        "# Finding best hyperparameters using gridsearchCV and evaluating our LogisticRegression model.\n",
        "\n",
        "from sklearn.linear_model import LogisticRegression\n",
        "lr=LogisticRegression(class_weight='balanced',n_jobs=-1)\n",
        "grid_param={'penalty':['l1','l2'],'C':[0.5,1,10]}\n",
        "grid=GridSearchCV(lr,param_grid=grid_param,scoring='roc_auc',cv=3,refit=True)\n",
        "grid.fit(X_train,y_train)\n",
        "custom_evaluation(grid,X_test,y_test)"
      ],
      "execution_count": 31,
      "outputs": [
        {
          "output_type": "stream",
          "text": [
            "auc_score :0.75 \n",
            "F1 score:0.25 \n",
            "Accuracy:0.72 \n",
            "Confusion_matrix:\n",
            " [[21657  7985]\n",
            " [  832  1454]]\n"
          ],
          "name": "stdout"
        }
      ]
    },
    {
      "cell_type": "code",
      "metadata": {
        "id": "ykoQGtrZM0Ur",
        "colab_type": "code",
        "outputId": "6782d7f5-1ad9-47fe-fa05-9ec1c58819f1",
        "colab": {
          "base_uri": "https://localhost:8080/",
          "height": 118
        }
      },
      "source": [
        "# Finding best hyperparameters using gridsearchCV and evaluating our GradientBoostingClassifier model.\n",
        "\n",
        "from sklearn.ensemble import GradientBoostingClassifier\n",
        "gbc=GradientBoostingClassifier(random_state=12)\n",
        "grid_param={'n_estimators':[150,200],'learning_rate':[0.1,0.5]}\n",
        "grid=GridSearchCV(gbc,param_grid=grid_param,scoring='roc_auc',cv=2,refit=True)\n",
        "grid.fit(X_train,y_train)\n",
        "custom_evaluation(grid,X_test,y_test)"
      ],
      "execution_count": 32,
      "outputs": [
        {
          "output_type": "stream",
          "text": [
            "auc_score :0.83 \n",
            "F1 score:0.39 \n",
            "Accuracy:0.94 \n",
            "Confusion_matrix:\n",
            " [[29565    77]\n",
            " [ 1708   578]]\n"
          ],
          "name": "stdout"
        }
      ]
    },
    {
      "cell_type": "code",
      "metadata": {
        "id": "Ogw3eSzXTUrh",
        "colab_type": "code",
        "colab": {
          "base_uri": "https://localhost:8080/",
          "height": 118
        },
        "outputId": "30ff742a-f1ad-48e8-c4b1-f70dc1f8cb1b"
      },
      "source": [
        "# Fitting GaussianNB classifier to our train data and evaluating it .\n",
        "\n",
        "from sklearn.naive_bayes import GaussianNB\n",
        "gnb=GaussianNB().fit(X_train,y_train)\n",
        "custom_evaluation(gnb,X_test,y_test)"
      ],
      "execution_count": 33,
      "outputs": [
        {
          "output_type": "stream",
          "text": [
            "auc_score :0.65 \n",
            "F1 score:0.13 \n",
            "Accuracy:0.92 \n",
            "Confusion_matrix:\n",
            " [[29284   358]\n",
            " [ 2106   180]]\n"
          ],
          "name": "stdout"
        }
      ]
    },
    {
      "cell_type": "code",
      "metadata": {
        "id": "KceIOSfSSKqh",
        "colab_type": "code",
        "colab": {
          "base_uri": "https://localhost:8080/",
          "height": 118
        },
        "outputId": "b620b58a-204e-47a1-f91b-97e4d01d78b4"
      },
      "source": [
        "# Finding best hyperparameters using gridsearchCV and evaluating our randomforestclassifier model.\n",
        "\n",
        "rfc=RandomForestClassifier(class_weight='balanced',n_jobs=-1,oob_score=True)\n",
        "grid_param={'n_estimators':[150,200],'max_depth':[5,10]}\n",
        "grid=GridSearchCV(rfc,param_grid=grid_param,scoring='roc_auc',cv=2,refit=True)\n",
        "grid.fit(X_train,y_train)\n",
        "custom_evaluation(grid,X_test,y_test)"
      ],
      "execution_count": 34,
      "outputs": [
        {
          "output_type": "stream",
          "text": [
            "auc_score :0.83 \n",
            "F1 score:0.39 \n",
            "Accuracy:0.87 \n",
            "Confusion_matrix:\n",
            " [[26232  3410]\n",
            " [  897  1389]]\n"
          ],
          "name": "stdout"
        }
      ]
    },
    {
      "cell_type": "code",
      "metadata": {
        "id": "i_otx20sUDPV",
        "colab_type": "code",
        "colab": {
          "base_uri": "https://localhost:8080/",
          "height": 185
        },
        "outputId": "0b852098-7d30-413d-ea21-e48db886e72f"
      },
      "source": [
        "# Out of all the above models that we have tried. GradientBoostingClassifier performed the best with\n",
        "# AUC score of 0.83 ,accuracy of 0.94 and F1 score of 0.39. RandomForestClassifier also performed good but \n",
        "# as Precision is more in GBclassifier as compared to RFclassifier(which has more recall as compared to GBClasifier) \n",
        "# we will go ahead with GBclassifier.So now we will train our model with the full data and the best hyperparameters \n",
        "# found above and test it with the seperate test set provided .\n",
        "\n",
        "X_train_whole=pd.concat([X_train,X_test],axis=0)\n",
        "y_train_whole=pd.concat([y_train,y_test],axis=0)\n",
        "\n",
        "from sklearn.ensemble import GradientBoostingClassifier\n",
        "gbc_model=GradientBoostingClassifier(n_estimators=200,learning_rate=0.5,random_state=12)\n",
        "gbc_model.fit(X_train_whole,y_train_whole)\n"
      ],
      "execution_count": 35,
      "outputs": [
        {
          "output_type": "execute_result",
          "data": {
            "text/plain": [
              "GradientBoostingClassifier(ccp_alpha=0.0, criterion='friedman_mse', init=None,\n",
              "                           learning_rate=0.5, loss='deviance', max_depth=3,\n",
              "                           max_features=None, max_leaf_nodes=None,\n",
              "                           min_impurity_decrease=0.0, min_impurity_split=None,\n",
              "                           min_samples_leaf=1, min_samples_split=2,\n",
              "                           min_weight_fraction_leaf=0.0, n_estimators=200,\n",
              "                           n_iter_no_change=None, presort='deprecated',\n",
              "                           random_state=12, subsample=1.0, tol=0.0001,\n",
              "                           validation_fraction=0.1, verbose=0,\n",
              "                           warm_start=False)"
            ]
          },
          "metadata": {
            "tags": []
          },
          "execution_count": 35
        }
      ]
    },
    {
      "cell_type": "code",
      "metadata": {
        "id": "8i3AbTKrhSns",
        "colab_type": "code",
        "colab": {
          "base_uri": "https://localhost:8080/",
          "height": 34
        },
        "outputId": "fa82b4ef-1fc7-43e9-e34c-46dec13442d1"
      },
      "source": [
        "from sklearn.model_selection import cross_val_score\n",
        "mean_cross_validation_score=np.mean(cross_val_score(gbc_model,X_train_whole,y_train_whole,scoring='roc_auc',cv=3))\n",
        "print('Mean cross validation score (AUC) :{}'.format(mean_cross_validation_score))"
      ],
      "execution_count": 36,
      "outputs": [
        {
          "output_type": "stream",
          "text": [
            "Mean cross validation score (AUC) :0.827465519423404\n"
          ],
          "name": "stdout"
        }
      ]
    },
    {
      "cell_type": "markdown",
      "metadata": {
        "id": "c_FTi5fH931m",
        "colab_type": "text"
      },
      "source": [
        "**Prediction on a seperate test set using our trained model.**"
      ]
    },
    {
      "cell_type": "code",
      "metadata": {
        "id": "10YNQXvSYNhK",
        "colab_type": "code",
        "colab": {
          "base_uri": "https://localhost:8080/",
          "height": 67
        },
        "outputId": "c6b8fd2e-0dbc-480e-d1dd-ccf428bc63b6"
      },
      "source": [
        "# Reading our test dataset and reducing its size.\n",
        "\n",
        "testing_df=pd.read_csv('/content/drive/My Drive/test.csv',encoding='ISO-8859-1',parse_dates=['ticket_issued_date','hearing_date'])\n",
        "x=pd.merge(testing_df,address_df,on='ticket_id',how='left')\n",
        "testing_df=pd.merge(x,latlon_df,on='address',how='left')\n",
        "testing_df=reduce_memory(testing_df)"
      ],
      "execution_count": 37,
      "outputs": [
        {
          "output_type": "stream",
          "text": [
            "Final DataFrame memory_usage:10.820566177368164\n",
            " Total memory saved (%): 25.0\n",
            "Total time taken to reduce DataFrame : 22.548437118530273 ms\n"
          ],
          "name": "stdout"
        }
      ]
    },
    {
      "cell_type": "code",
      "metadata": {
        "id": "333u8kZsZn_W",
        "colab_type": "code",
        "colab": {}
      },
      "source": [
        "def testing_custom_preprocessing(df):\n",
        "  ''' This function take dataframe as a input, \n",
        "      performs preprocesing on it and then returns it as a dataframe.'''\n",
        "  \n",
        "  # Droping the columns which has more than 75 % Nan values as it will make\n",
        "  # the feature space very sparse and also won't provide any useful information in prediction.\n",
        "  df.drop(['grafitti_status','non_us_str_code','violation_zip_code'],axis=1,inplace=True)\n",
        "  \n",
        "  # Converting columns data type to 'category' for columns which has less than 300 unique values.\n",
        "  for i in df.columns:\n",
        "    if str(df[i].dtype) == 'object' and df[i].nunique()<300:\n",
        "      df[i]=df[i].astype('category')\n",
        "\n",
        "  # Droping 'clean_up_cost' column as it has only one unique value (constant for all data)\n",
        "  # and so variance is zero and therefore wont provide any useful information in prediction . \n",
        "  df.drop('clean_up_cost',axis=1,inplace=True)\n",
        "\n",
        "  # Creating new colummn-Total_fee as the sum of admin_fee,state_fee and late_fee and dropping the old columns .\n",
        "  df['Total_fee']=df['admin_fee']+df['state_fee']+df['late_fee']\n",
        "  df.drop(['admin_fee','state_fee','late_fee'],axis=1,inplace=True)\n",
        "\n",
        "  # Removing outliers in country column and then droping Country column as it is constant (USA)\n",
        "  df.drop('country',inplace=True,axis=1)\n",
        "\n",
        "  # Droping address ,city,state,zip_code column as its information is already there in lat and lon column .\n",
        "  # Droping violator_name column as there are more than 50% unique value and i feel it wont provide any useful information in prediction. \n",
        "  df.drop(['violation_street_number','violation_street_name','address','violator_name','state','zip_code','city','mailing_address_str_name','mailing_address_str_number'],axis=1,inplace=True)\n",
        "\n",
        "  return df"
      ],
      "execution_count": 0,
      "outputs": []
    },
    {
      "cell_type": "code",
      "metadata": {
        "id": "gV5NyNuWs9xD",
        "colab_type": "code",
        "colab": {}
      },
      "source": [
        "testing_df=testing_custom_preprocessing(testing_df)"
      ],
      "execution_count": 0,
      "outputs": []
    },
    {
      "cell_type": "code",
      "metadata": {
        "id": "7aHDqeJqp-zk",
        "colab_type": "code",
        "colab": {}
      },
      "source": [
        "def testing_custom_encoding(test_df):\n",
        "  '''This function take test dataframe as a input, \n",
        "      performs encoding of the categorical features and then returns it as a dataframe. '''\n",
        "\n",
        "  # Filling Nan values in hearing_date column with most frequent hearing date\n",
        "  # (mode)and creating a new feature-Days_difference which is the difference of hearing_date and ticket_issued_date\n",
        "  mode=list(stats.mode(test_df['hearing_date']))[0][0]\n",
        "  test_df['hearing_date'].fillna(value=mode,inplace=True)\n",
        "  test_df['Days_difference']=test_df['hearing_date']-test_df['ticket_issued_date']\n",
        "  test_df['Days_difference']=test_df['Days_difference'].dt.days\n",
        "  test_df.drop(['ticket_issued_date','hearing_date'],axis=1,inplace=True)\n",
        "\n",
        "  # Encoding the column with the counts of each unique name.This will not make\n",
        "  # the feature space sparse when there are more number of unique catgorical values\n",
        "  my_map=test_df['inspector_name'].value_counts().to_dict()\n",
        "  test_df['inspector_name']=test_df['inspector_name'].map(my_map)\n",
        "\n",
        "  my_map1=test_df['violation_description'].value_counts().to_dict()\n",
        "  test_df['violation_description']=test_df['violation_description'].map(my_map1)\n",
        "\n",
        "  my_map2=test_df['violation_code'].value_counts().to_dict()\n",
        "  test_df['violation_code']=test_df['violation_code'].map(my_map2)\n",
        "\n",
        "  # Encoding disposition column like OneHotEncoder but only for the top 4 values.\n",
        "  my_list=test_df['disposition'].value_counts().head(4).index\n",
        "  for i in my_list:\n",
        "    test_df[i]=np.where(test_df['disposition']==i,1,0)\n",
        "  test_df.drop('disposition',axis=1,inplace=True)\n",
        "\n",
        "  # Encoding agency_name column like OneHotEncoder but only for the top 4 values\n",
        "  my_list1=test_df['agency_name'].value_counts().head(4).index\n",
        "  for i in my_list1:\n",
        "    test_df[i]=np.where(test_df['agency_name']==i,1,0)\n",
        "  test_df.drop('agency_name',axis=1,inplace=True)\n",
        "  test_df['lat'].fillna(value=list(stats.mode(test_df['lat']))[0][0],inplace=True)\n",
        "  test_df['lon'].fillna(value=list(stats.mode(test_df['lon']))[0][0],inplace=True)\n",
        "\n",
        "  return test_df"
      ],
      "execution_count": 0,
      "outputs": []
    },
    {
      "cell_type": "code",
      "metadata": {
        "id": "zrL1DkCwuHCZ",
        "colab_type": "code",
        "colab": {}
      },
      "source": [
        "testing_df=testing_custom_encoding(testing_df)"
      ],
      "execution_count": 0,
      "outputs": []
    },
    {
      "cell_type": "code",
      "metadata": {
        "id": "zWf8GBaruke1",
        "colab_type": "code",
        "colab": {
          "base_uri": "https://localhost:8080/",
          "height": 235
        },
        "outputId": "8398614e-f409-4496-f6e7-3816fb62c9f1"
      },
      "source": [
        "# Predicting the probabality of getting 0 and 1 using our final trained model \n",
        "\n",
        "final_predict_proba_result=pd.Series(gbc_model.predict_proba(testing_df)[:,1],testing_df.ticket_id)\n",
        "final_predict_proba_result"
      ],
      "execution_count": 42,
      "outputs": [
        {
          "output_type": "execute_result",
          "data": {
            "text/plain": [
              "ticket_id\n",
              "284932   0.02\n",
              "285362   0.00\n",
              "285361   0.01\n",
              "285338   0.01\n",
              "285346   0.01\n",
              "         ... \n",
              "376496   0.03\n",
              "376497   0.03\n",
              "376499   0.22\n",
              "376500   0.22\n",
              "369851   0.99\n",
              "Length: 61001, dtype: float64"
            ]
          },
          "metadata": {
            "tags": []
          },
          "execution_count": 42
        }
      ]
    },
    {
      "cell_type": "markdown",
      "metadata": {
        "id": "TlbKO-qW-USA",
        "colab_type": "text"
      },
      "source": [
        "**Dumping of our final trained model to pickle file**"
      ]
    },
    {
      "cell_type": "code",
      "metadata": {
        "id": "Ketz1Xcf72q_",
        "colab_type": "code",
        "colab": {
          "base_uri": "https://localhost:8080/",
          "height": 34
        },
        "outputId": "340563bf-eeea-4253-9932-835001658006"
      },
      "source": [
        "# Dumping our final model to pickle file.\n",
        "\n",
        "from sklearn.externals import joblib\n",
        "joblib.dump(gbc_model,'BlightPrediction_model.pk1')"
      ],
      "execution_count": 43,
      "outputs": [
        {
          "output_type": "execute_result",
          "data": {
            "text/plain": [
              "['BlightPrediction_model.pk1']"
            ]
          },
          "metadata": {
            "tags": []
          },
          "execution_count": 43
        }
      ]
    }
  ]
}